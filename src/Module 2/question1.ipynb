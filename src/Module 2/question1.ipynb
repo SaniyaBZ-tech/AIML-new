{
 "cells": [
  {
   "cell_type": "markdown",
   "metadata": {},
   "source": [
    "<!-- Question 1: Importing and Understanding a Dataset\n",
    "Description: Begin by importing a commonly used dataset in Scikit-Learn, such as the Iris dataset. Explore and understand its structure, attribute types, and target. -->"
   ]
  }
 ],
 "metadata": {
  "language_info": {
   "name": "python"
  }
 },
 "nbformat": 4,
 "nbformat_minor": 2
}
