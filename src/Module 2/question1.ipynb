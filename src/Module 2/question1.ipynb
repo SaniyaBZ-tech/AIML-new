{
 "cells": [
  {
   "cell_type": "markdown",
   "metadata": {},
   "source": [
    "<!-- Question 1: Importing and Understanding a Dataset\n",
    "Description: Begin by importing a commonly used dataset in Scikit-Learn, such as the Iris dataset. Explore and understand its structure, attribute types, and target. -->\n",
    "\n",
    "print(\"hello\")"
   ]
  },
  {
   "cell_type": "code",
   "execution_count": null,
   "metadata": {},
   "outputs": [
    {
     "name": "stdout",
     "output_type": "stream",
     "text": [
      "hello world\n"
     ]
    }
   ],
   "source": [
    "# Question 1: Importing and Understanding a Dataset\n",
    "# Description:\n",
    "# Begin by importing a commonly used dataset in Scikit-Learn, such as the Iris dataset. Explore\n",
    "# and understand its structure, attribute types, and target.\n"
   ]
  }
 ],
 "metadata": {
  "kernelspec": {
   "display_name": "Python 3",
   "language": "python",
   "name": "python3"
  },
  "language_info": {
   "codemirror_mode": {
    "name": "ipython",
    "version": 3
   },
   "file_extension": ".py",
   "mimetype": "text/x-python",
   "name": "python",
   "nbconvert_exporter": "python",
   "pygments_lexer": "ipython3",
   "version": "3.12.5"
  }
 },
 "nbformat": 4,
 "nbformat_minor": 2
}
